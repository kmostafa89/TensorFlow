{
 "cells": [
  {
   "cell_type": "code",
   "execution_count": 1,
   "metadata": {
    "collapsed": true
   },
   "outputs": [],
   "source": [
    "import pandas as pd\n",
    "import numpy as np\n",
    "import matplotlib.pyplot as plt\n",
    "%matplotlib inline\n",
    "import tensorflow as tf"
   ]
  },
  {
   "cell_type": "code",
   "execution_count": 3,
   "metadata": {
    "collapsed": true
   },
   "outputs": [],
   "source": [
    "from tensorflow.examples.tutorials.mnist import input_data"
   ]
  },
  {
   "cell_type": "code",
   "execution_count": 6,
   "metadata": {},
   "outputs": [
    {
     "name": "stdout",
     "output_type": "stream",
     "text": [
      "Extracting MNIST_data/train-images-idx3-ubyte.gz\n",
      "Extracting MNIST_data/train-labels-idx1-ubyte.gz\n",
      "Extracting MNIST_data/t10k-images-idx3-ubyte.gz\n",
      "Extracting MNIST_data/t10k-labels-idx1-ubyte.gz\n"
     ]
    }
   ],
   "source": [
    "mnist = input_data.read_data_sets(\"MNIST_data/\",one_hot=True)"
   ]
  },
  {
   "cell_type": "code",
   "execution_count": 10,
   "metadata": {},
   "outputs": [],
   "source": [
    "# create helper functions\n",
    "# weight function\n",
    "def init_weight(shape):\n",
    "    init_random_dist = tf.truncated_normal(shape,stddev=0.1)\n",
    "    return tf.Variable(init_random_dist)"
   ]
  },
  {
   "cell_type": "code",
   "execution_count": 11,
   "metadata": {
    "collapsed": true
   },
   "outputs": [],
   "source": [
    "# bias function\n",
    "\n",
    "def init_bias(shape):\n",
    "    init_bias_vals = tf.constant(0.1,shape = shape)\n",
    "    return tf.Variable(init_bias_vals)"
   ]
  },
  {
   "cell_type": "code",
   "execution_count": 13,
   "metadata": {
    "collapsed": true
   },
   "outputs": [],
   "source": [
    "# conv2D\n",
    "def conv2d(x,W):\n",
    "    # x --> input tensor where [batch,H(height),W(width),Channel(gray or RGB )]\n",
    "    # W --> kernel where [ Filter H, Filter W , Channels In , Channels Out]\n",
    "    return tf.nn.conv2d(x,W,strides =[1,1,1,1],padding = \"SAME\")\n",
    "\n",
    "    "
   ]
  },
  {
   "cell_type": "code",
   "execution_count": 15,
   "metadata": {
    "collapsed": true
   },
   "outputs": [],
   "source": [
    "#pooling convenient function\n",
    "\n",
    "def max_pool_2by2(x):\n",
    "    # x input tensor\n",
    "    # we want to pull from the heights and width of the input [Batch, H, W, Channel] therefore ksize -- [1,2,2,1]\n",
    "    return tf.nn.max_pool(x,ksize=[1,2,2,1] , strides=[1,2,2,1] , padding= \"SAME\")"
   ]
  },
  {
   "cell_type": "code",
   "execution_count": 22,
   "metadata": {
    "collapsed": true
   },
   "outputs": [],
   "source": [
    "# convulutional layer\n",
    "def convolutional_layer(input_x, shape):\n",
    "    W = init_weight(shape)\n",
    "    b = init_bias([shape[3]])\n",
    "    return tf.nn.relu(conv2d(input_x,W)+b)"
   ]
  },
  {
   "cell_type": "code",
   "execution_count": 17,
   "metadata": {
    "collapsed": true
   },
   "outputs": [],
   "source": [
    "# normal fully connected layer\n",
    "def normal_full_layer(input_layer , size):\n",
    "    input_size = int(input_layer.get_shape()[1])\n",
    "    W = init_weight([input_size,size])\n",
    "    b = init_bias([size])\n",
    "    return tf.matmul(input_layer,W)+b"
   ]
  },
  {
   "cell_type": "code",
   "execution_count": 18,
   "metadata": {
    "collapsed": true
   },
   "outputs": [],
   "source": [
    "x = tf.placeholder(tf.float32,shape = [None , 784])"
   ]
  },
  {
   "cell_type": "code",
   "execution_count": 20,
   "metadata": {},
   "outputs": [],
   "source": [
    "y_true =tf.placeholder(tf.float32,shape= [None , 10])##one hot encoded labels"
   ]
  },
  {
   "cell_type": "code",
   "execution_count": 21,
   "metadata": {
    "collapsed": true
   },
   "outputs": [],
   "source": [
    "#layers\n",
    "x_image = tf.reshape(x,[-1,28,28,1])##1 is the channel which is gray scaled for this example"
   ]
  },
  {
   "cell_type": "code",
   "execution_count": 24,
   "metadata": {
    "collapsed": true
   },
   "outputs": [],
   "source": [
    "#convolutional layers\n",
    "convo_1 = convolutional_layer(x_image , shape= [5,5,1,32])##32 feathres for each 5,5 batch\n",
    "convo_1_pooling = max_pool_2by2(convo_1)"
   ]
  },
  {
   "cell_type": "code",
   "execution_count": 26,
   "metadata": {
    "collapsed": true
   },
   "outputs": [],
   "source": [
    "convo_2 = convolutional_layer(convo_1_pooling,shape = [5,5,32,64])\n",
    "convo_2_pooling =max_pool_2by2(convo_2)"
   ]
  },
  {
   "cell_type": "code",
   "execution_count": 29,
   "metadata": {},
   "outputs": [],
   "source": [
    "convo_2_flat = tf.reshape(convo_2_pooling,[-1,7*7*64])\n",
    "full_layer_one = tf.nn.relu(normal_full_layer(convo_2_flat,1024))"
   ]
  },
  {
   "cell_type": "code",
   "execution_count": 30,
   "metadata": {
    "collapsed": true
   },
   "outputs": [],
   "source": [
    "# drop out\n",
    "hold_prob = tf.placeholder(tf.float32)\n",
    "full_one_dropout =tf.nn.dropout(full_layer_one,keep_prob=hold_prob)"
   ]
  },
  {
   "cell_type": "code",
   "execution_count": 31,
   "metadata": {
    "collapsed": true
   },
   "outputs": [],
   "source": [
    "y_pred = normal_full_layer(full_one_dropout,10)"
   ]
  },
  {
   "cell_type": "code",
   "execution_count": 33,
   "metadata": {},
   "outputs": [],
   "source": [
    "#loss function\n",
    "cross_entropy = tf.reduce_mean(tf.nn.softmax_cross_entropy_with_logits(labels = y_true,\n",
    "                                                                       logits = y_pred))"
   ]
  },
  {
   "cell_type": "code",
   "execution_count": 34,
   "metadata": {
    "collapsed": true
   },
   "outputs": [],
   "source": [
    "#optimizer\n",
    "optimizer = tf.train.AdamOptimizer()\n",
    "train = optimizer.minimize(cross_entropy)"
   ]
  },
  {
   "cell_type": "code",
   "execution_count": 38,
   "metadata": {
    "collapsed": true
   },
   "outputs": [],
   "source": [
    "init = tf.global_variables_initializer()"
   ]
  },
  {
   "cell_type": "code",
   "execution_count": 40,
   "metadata": {},
   "outputs": [
    {
     "name": "stdout",
     "output_type": "stream",
     "text": [
      "On Step :0\n",
      "Accuracy: \n",
      "0.1308\n",
      "\n",
      "\n",
      "On Step :100\n",
      "Accuracy: \n",
      "0.9494\n",
      "\n",
      "\n",
      "On Step :200\n",
      "Accuracy: \n",
      "0.9628\n",
      "\n",
      "\n",
      "On Step :300\n",
      "Accuracy: \n",
      "0.9665\n",
      "\n",
      "\n",
      "On Step :400\n",
      "Accuracy: \n",
      "0.9736\n",
      "\n",
      "\n",
      "On Step :500\n",
      "Accuracy: \n",
      "0.9792\n",
      "\n",
      "\n",
      "On Step :600\n",
      "Accuracy: \n",
      "0.9748\n",
      "\n",
      "\n",
      "On Step :700\n",
      "Accuracy: \n",
      "0.9844\n",
      "\n",
      "\n",
      "On Step :800\n",
      "Accuracy: \n",
      "0.9785\n",
      "\n",
      "\n",
      "On Step :900\n",
      "Accuracy: \n",
      "0.9821\n",
      "\n",
      "\n",
      "On Step :1000\n",
      "Accuracy: \n",
      "0.9851\n",
      "\n",
      "\n",
      "On Step :1100\n",
      "Accuracy: \n",
      "0.9847\n",
      "\n",
      "\n",
      "On Step :1200\n",
      "Accuracy: \n",
      "0.9871\n",
      "\n",
      "\n",
      "On Step :1300\n",
      "Accuracy: \n",
      "0.9862\n",
      "\n",
      "\n",
      "On Step :1400\n",
      "Accuracy: \n",
      "0.986\n",
      "\n",
      "\n",
      "On Step :1500\n",
      "Accuracy: \n",
      "0.9881\n",
      "\n",
      "\n",
      "On Step :1600\n",
      "Accuracy: \n",
      "0.9873\n",
      "\n",
      "\n",
      "On Step :1700\n",
      "Accuracy: \n",
      "0.986\n",
      "\n",
      "\n",
      "On Step :1800\n",
      "Accuracy: \n",
      "0.9882\n",
      "\n",
      "\n",
      "On Step :1900\n",
      "Accuracy: \n",
      "0.9854\n",
      "\n",
      "\n",
      "On Step :2000\n",
      "Accuracy: \n",
      "0.9885\n",
      "\n",
      "\n",
      "On Step :2100\n",
      "Accuracy: \n",
      "0.9881\n",
      "\n",
      "\n",
      "On Step :2200\n",
      "Accuracy: \n",
      "0.9874\n",
      "\n",
      "\n",
      "On Step :2300\n",
      "Accuracy: \n",
      "0.9897\n",
      "\n",
      "\n",
      "On Step :2400\n",
      "Accuracy: \n",
      "0.9892\n",
      "\n",
      "\n",
      "On Step :2500\n",
      "Accuracy: \n",
      "0.9881\n",
      "\n",
      "\n",
      "On Step :2600\n",
      "Accuracy: \n",
      "0.9888\n",
      "\n",
      "\n",
      "On Step :2700\n",
      "Accuracy: \n",
      "0.9881\n",
      "\n",
      "\n",
      "On Step :2800\n",
      "Accuracy: \n",
      "0.9884\n",
      "\n",
      "\n",
      "On Step :2900\n",
      "Accuracy: \n",
      "0.9895\n",
      "\n",
      "\n",
      "On Step :3000\n",
      "Accuracy: \n",
      "0.9885\n",
      "\n",
      "\n",
      "On Step :3100\n",
      "Accuracy: \n",
      "0.9894\n",
      "\n",
      "\n",
      "On Step :3200\n",
      "Accuracy: \n",
      "0.9898\n",
      "\n",
      "\n",
      "On Step :3300\n",
      "Accuracy: \n",
      "0.989\n",
      "\n",
      "\n",
      "On Step :3400\n",
      "Accuracy: \n",
      "0.9911\n",
      "\n",
      "\n",
      "On Step :3500\n",
      "Accuracy: \n",
      "0.9913\n",
      "\n",
      "\n",
      "On Step :3600\n",
      "Accuracy: \n",
      "0.9912\n",
      "\n",
      "\n",
      "On Step :3700\n",
      "Accuracy: \n",
      "0.9929\n",
      "\n",
      "\n",
      "On Step :3800\n",
      "Accuracy: \n",
      "0.9898\n",
      "\n",
      "\n",
      "On Step :3900\n",
      "Accuracy: \n",
      "0.9899\n",
      "\n",
      "\n",
      "On Step :4000\n",
      "Accuracy: \n",
      "0.9903\n",
      "\n",
      "\n",
      "On Step :4100\n",
      "Accuracy: \n",
      "0.9912\n",
      "\n",
      "\n",
      "On Step :4200\n",
      "Accuracy: \n",
      "0.9898\n",
      "\n",
      "\n",
      "On Step :4300\n",
      "Accuracy: \n",
      "0.9908\n",
      "\n",
      "\n",
      "On Step :4400\n",
      "Accuracy: \n",
      "0.9908\n",
      "\n",
      "\n",
      "On Step :4500\n",
      "Accuracy: \n",
      "0.9915\n",
      "\n",
      "\n",
      "On Step :4600\n",
      "Accuracy: \n",
      "0.9906\n",
      "\n",
      "\n",
      "On Step :4700\n",
      "Accuracy: \n",
      "0.9902\n",
      "\n",
      "\n",
      "On Step :4800\n",
      "Accuracy: \n",
      "0.9906\n",
      "\n",
      "\n",
      "On Step :4900\n",
      "Accuracy: \n",
      "0.99\n",
      "\n",
      "\n"
     ]
    }
   ],
   "source": [
    "steps = 5000\n",
    "with tf.Session() as sess:\n",
    "    sess.run(init)\n",
    "    for i in range(steps):\n",
    "        batch_x , batch_y  = mnist.train.next_batch(50)\n",
    "        sess.run(train, feed_dict= {x:batch_x , y_true: batch_y , hold_prob : 0.5 })\n",
    "        \n",
    "        if i%100 ==0:\n",
    "            print(\"On Step :{}\".format(i))\n",
    "            print(\"Accuracy: \")\n",
    "            \n",
    "            matches =tf.equal(tf.argmax(y_pred , 1),tf.argmax(y_true,1))\n",
    "            acc = tf.reduce_mean(tf.cast(matches,tf.float32))\n",
    "            print(sess.run(acc,feed_dict = {x:mnist.test.images, y_true : mnist.test.labels, hold_prob:1.0}))\n",
    "            print(\"\\n\")"
   ]
  }
 ],
 "metadata": {
  "kernelspec": {
   "display_name": "Python 3",
   "language": "python",
   "name": "python3"
  },
  "language_info": {
   "codemirror_mode": {
    "name": "ipython",
    "version": 3
   },
   "file_extension": ".py",
   "mimetype": "text/x-python",
   "name": "python",
   "nbconvert_exporter": "python",
   "pygments_lexer": "ipython3",
   "version": "3.6.1"
  }
 },
 "nbformat": 4,
 "nbformat_minor": 2
}
